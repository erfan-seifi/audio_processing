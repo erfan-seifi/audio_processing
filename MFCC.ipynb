{
 "cells": [
  {
   "cell_type": "code",
   "execution_count": null,
   "metadata": {},
   "outputs": [],
   "source": [
    "# Get the path to the desktop directory on macOS\n",
    "import os\n",
    "user_directory = os.path.join(os.path.expanduser('~'), '')\n",
    "os.chdir(user_directory)"
   ]
  },
  {
   "cell_type": "code",
   "execution_count": null,
   "metadata": {},
   "outputs": [],
   "source": [
    "import matplotlib.pyplot as plt\n",
    "import pandas as pd\n",
    "import librosa\n",
    "import librosa.display\n",
    "import numpy as np\n",
    "from scipy.linalg import solve_toeplitz, toeplitz\n",
    "import scipy"
   ]
  },
  {
   "cell_type": "code",
   "execution_count": null,
   "metadata": {},
   "outputs": [],
   "source": [
    "import librosa\n",
    "import librosa.display\n",
    "import matplotlib.pyplot as plt\n",
    "import pandas as pd\n",
    "import os\n",
    "\n",
    "def compute_mfcc_and_deltas(y, sr, n_mfcc=13):\n",
    "    mfccs = librosa.feature.mfcc(y=y, sr=sr, n_mfcc=n_mfcc)\n",
    "    \n",
    "    # If data is too small, return zeros for delta and delta2\n",
    "    if mfccs.shape[1] < 3:\n",
    "        return mfccs, np.zeros_like(mfccs), np.zeros_like(mfccs)\n",
    "    \n",
    "    delta_width = 9\n",
    "    while delta_width > mfccs.shape[1]:\n",
    "        delta_width -= 2\n",
    "    \n",
    "    # Ensure delta_width is at least 3 and remains odd\n",
    "    delta_width = max(3, delta_width)\n",
    "\n",
    "    delta_mfccs = librosa.feature.delta(mfccs, width=delta_width)\n",
    "    delta2_mfccs = librosa.feature.delta(mfccs, order=2, width=delta_width)\n",
    "    return mfccs, delta_mfccs, delta2_mfccs\n",
    "\n",
    "\n",
    "def main(audio_path, excel_path, save_directory):\n",
    "    y, sr = librosa.load(audio_path, sr=None)\n",
    "    df = pd.read_csv(excel_path)\n",
    "    counter = 0\n",
    "    for index, row in df.iterrows():\n",
    "        counter = counter + 1\n",
    "        start_sample = librosa.time_to_samples(row['start'], sr=sr)\n",
    "        end_sample = librosa.time_to_samples(row['end'], sr=sr)\n",
    "        word_segment = y[start_sample:end_sample]\n",
    "\n",
    "        mfccs, delta_mfccs, delta2_mfccs = compute_mfcc_and_deltas(word_segment, sr)\n",
    "\n",
    "        # Skip plotting and saving for words with fewer than 3 MFCC frames\n",
    "        if mfccs.shape[1] < 3:\n",
    "            continue\n",
    "        \n",
    "        word_label = row.get('word', f'Word_{index+1}')  # Assumes there's a 'word' column. If not, uses default label.\n",
    "\n",
    "        plt.figure(figsize=(10, 6))\n",
    "        plt.subplot(3, 1, 1)\n",
    "        librosa.display.specshow(mfccs, x_axis='time')\n",
    "        plt.title(f'MFCCs of Word: {word_label}')\n",
    "        plt.colorbar()\n",
    "        \n",
    "        plt.subplot(3, 1, 2)\n",
    "        librosa.display.specshow(delta_mfccs, x_axis='time')\n",
    "        plt.title(f'Delta MFCCs of Word: {word_label}')\n",
    "        plt.colorbar()\n",
    "        \n",
    "        plt.subplot(3, 1, 3)\n",
    "        librosa.display.specshow(delta2_mfccs, x_axis='time')\n",
    "        plt.title(f'Delta-Delta MFCCs of Word: {word_label}')\n",
    "        plt.colorbar()\n",
    "        \n",
    "        plt.tight_layout()\n",
    "        plt.savefig(f\"{save_directory}{str(counter)}_{word_label}.jpg\", dpi=300)\n",
    "        plt.close()\n",
    "\n",
    "\n",
    "if __name__ == \"__main__\":\n",
    "    audio_path = './Desktop/Folders/.wav'  # Replace with your audio file path\n",
    "    excel_path = './Desktop/Folders/.csv'  # Replace with your .csv file path\n",
    "    subject = 'Erfan'\n",
    "    save_directory = './Desktop/Folders/Frequency_plots/MFCC/' + subject + '/'  # Specify the directory where you want to save the plots\n",
    "    \n",
    "    main(audio_path, excel_path, save_directory)\n"
   ]
  }
 ],
 "metadata": {
  "kernelspec": {
   "display_name": "Python 3.9.7 ('base')",
   "language": "python",
   "name": "python3"
  },
  "language_info": {
   "codemirror_mode": {
    "name": "ipython",
    "version": 3
   },
   "file_extension": ".py",
   "mimetype": "text/x-python",
   "name": "python",
   "nbconvert_exporter": "python",
   "pygments_lexer": "ipython3",
   "version": "3.9.7"
  },
  "orig_nbformat": 4,
  "vscode": {
   "interpreter": {
    "hash": "f08e49717b89637f45c221cc312824aad954e4787a708f9902b4c6d1f314e1de"
   }
  }
 },
 "nbformat": 4,
 "nbformat_minor": 2
}
