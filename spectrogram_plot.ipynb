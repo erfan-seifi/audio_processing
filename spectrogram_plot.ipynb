{
 "cells": [
  {
   "cell_type": "code",
   "execution_count": null,
   "metadata": {},
   "outputs": [],
   "source": [
    "# Get the path to the desktop directory on macOS\n",
    "import os\n",
    "user_directory = os.path.join(os.path.expanduser('~'), '')\n",
    "os.chdir(user_directory)"
   ]
  },
  {
   "cell_type": "code",
   "execution_count": null,
   "metadata": {},
   "outputs": [],
   "source": [
    "import matplotlib.pyplot as plt\n",
    "import librosa.display\n",
    "import matplotlib.pyplot\n",
    "import pandas as pd\n",
    "import numpy as np\n",
    "\n",
    "def plot_spectrogram_and_signal(audio_path, df_sentences, df_words, save_directory):\n",
    "    y, sr = librosa.load(audio_path, sr=None)\n",
    "\n",
    "    for index, row in df_sentences.iterrows():\n",
    "        plt.figure(figsize=(12, 8))\n",
    "\n",
    "        # Compute the start and end sample indices for the sentence\n",
    "        start_sample_sentence = librosa.time_to_samples(row['start'], sr=sr)\n",
    "        end_sample_sentence = librosa.time_to_samples(row['end'], sr=sr)\n",
    "\n",
    "        # Extract the segment of the audio corresponding to the current sentence\n",
    "        y_sentence = y[start_sample_sentence:end_sample_sentence]\n",
    "\n",
    "        # Plot spectrogram\n",
    "        plt.subplot(2, 1, 1)\n",
    "        hop_length = 512\n",
    "        n_fft = 2048\n",
    "        sr = 44100\n",
    "        # Compute the spectrogram for each signal\n",
    "        spec = librosa.feature.melspectrogram(y=y_sentence, sr=sr,\n",
    "                                            n_fft=n_fft, hop_length=hop_length)\n",
    "        spec_db = librosa.power_to_db(spec, ref=np.max)\n",
    "        librosa.display.specshow(spec_db, sr=sr, x_axis='time', y_axis='mel', n_fft=n_fft, hop_length = hop_length)\n",
    "\n",
    "        plt.title(row['text'])\n",
    "\n",
    "        # Subplot waveform below the spectrogram\n",
    "        plt.subplot(2, 1, 2)\n",
    "        librosa.display.waveshow(y_sentence, sr=sr)\n",
    "        plt.title('Waveform')\n",
    "\n",
    "        # For each word, add a vertical line and text to the waveform plot\n",
    "        for _, word_row in df_words.iterrows():\n",
    "            word_start = word_row['start']\n",
    "            word_end = word_row['end']\n",
    "\n",
    "            # Check if the word is within the current sentence\n",
    "            if word_row['start'] >= row['start'] and word_row['end'] <= row['end']:\n",
    "                word_start_sample = librosa.time_to_samples(word_start - row['start'], sr=sr)\n",
    "                word_end_sample = librosa.time_to_samples(word_end - row['start'], sr=sr)\n",
    "                \n",
    "                # Add vertical lines to both spectrogram and waveform plots\n",
    "                plt.subplot(2, 1, 1)\n",
    "                        # Plot vertical lines for words\n",
    "                for _, word_row in df_words.iterrows():\n",
    "                    if word_row['start'] >= row['start'] and word_row['end'] <= row['end']:\n",
    "                        plt.axvline(librosa.samples_to_time(word_start_sample, sr=sr), color='g', linestyle='--')\n",
    "                        plt.axvline(librosa.samples_to_time(word_end_sample, sr=sr), color='tab:blue', linestyle='--')\n",
    "\n",
    "                plt.subplot(2, 1, 2)\n",
    "                for _, word_row in df_words.iterrows():\n",
    "                    if word_row['start'] >= row['start'] and word_row['end'] <= row['end']:\n",
    "                        plt.axvline(librosa.samples_to_time(word_start_sample, sr=sr), color='g', linestyle='--')\n",
    "                        plt.axvline(librosa.samples_to_time(word_end_sample, sr=sr), color='tab:blue', linestyle='--')\n",
    "                        # Print the word at its respective position on the waveform\n",
    "                        word_start_in_plot = word_row['start'] - row['start']\n",
    "                        word_middle_in_plot = word_start_in_plot + (word_row['end'] - word_row['start']) / 2\n",
    "                        plt.text(word_middle_in_plot, np.max(y_sentence) * 0.8, word_row['word'], rotation=0, ha='center')\n",
    "\n",
    "        # Save the plot\n",
    "        plt.tight_layout()\n",
    "        plt.savefig(f\"{save_directory}Sentence_{index+1}_spectrogram_and_signal.jpg\", dpi=300)\n",
    "        plt.close()\n",
    "\n",
    "# Replace the following with your own path\n",
    "audio_path = './Desktop/Folders/.wav'\n",
    "df_sentences = pd.read_csv('./Desktop/Folders/.csv')\n",
    "df_words = pd.read_csv('./Desktop/Folders/.csv')\n",
    "save_directory = './Desktop/Folders/'\n",
    "\n",
    "plot_spectrogram_and_signal(audio_path, df_sentences, df_words, save_directory)\n"
   ]
  }
 ],
 "metadata": {
  "kernelspec": {
   "display_name": "Python 3.9.7 ('base')",
   "language": "python",
   "name": "python3"
  },
  "language_info": {
   "codemirror_mode": {
    "name": "ipython",
    "version": 3
   },
   "file_extension": ".py",
   "mimetype": "text/x-python",
   "name": "python",
   "nbconvert_exporter": "python",
   "pygments_lexer": "ipython3",
   "version": "3.9.7"
  },
  "orig_nbformat": 4,
  "vscode": {
   "interpreter": {
    "hash": "f08e49717b89637f45c221cc312824aad954e4787a708f9902b4c6d1f314e1de"
   }
  }
 },
 "nbformat": 4,
 "nbformat_minor": 2
}
